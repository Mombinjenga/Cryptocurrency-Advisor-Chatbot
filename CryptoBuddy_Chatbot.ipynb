{
 "cells": [
  {
   "cell_type": "markdown",
   "id": "aca6d981",
   "metadata": {},
   "source": [
    "# CryptoBuddy Chatbot 🤖💸\n",
    "\n",
    "Welcome to CryptoBuddy! Ask about crypto trends, sustainability, or what to buy."
   ]
  },
  {
   "cell_type": "code",
   "execution_count": 18,
   "id": "320f4242",
   "metadata": {},
   "outputs": [],
   "source": [
    "# Crypto database setup\n",
    "\n",
    "crypto_db = {\n",
    "    \"Bitcoin\": {\n",
    "        \"price_trend\": \"rising\",\n",
    "        \"market_cap\": \"high\",\n",
    "        \"energy_use\": \"high\",\n",
    "        \"sustainability_score\": 3/10\n",
    "    },\n",
    "    \"Ethereum\": {\n",
    "        \"price_trend\": \"stable\",\n",
    "        \"market_cap\": \"high\",\n",
    "        \"energy_use\": \"medium\",\n",
    "        \"sustainability_score\": 6/10\n",
    "    },\n",
    "    \"Cardano\": {\n",
    "        \"price_trend\": \"rising\",\n",
    "        \"market_cap\": \"medium\",\n",
    "        \"energy_use\": \"low\",\n",
    "        \"sustainability_score\": 8/10\n",
    "    }\n",
    "}"
   ]
  },
  {
   "cell_type": "code",
   "execution_count": 24,
   "id": "81d1dfa4",
   "metadata": {},
   "outputs": [],
   "source": [
    "# Crypto advisor function\n",
    "\n",
    "def crypto_advisor(query):\n",
    "    query = query.lower()\n",
    "    print(\"CryptoBuddy: Thinking... 🤔\")\n",
    "    if \"sustainable\" in query or \"eco-friendly\" in query:\n",
    "        recommend = max(crypto_db, key=lambda x: crypto_db[x][\"sustainability_score\"])\n",
    "        return (f\"Invest in {recommend}! 🌱 It’s eco-friendly with a sustainability score of \"\n",
    "                f\"{crypto_db[recommend]['sustainability_score']*10}/10!\\n\"\n",
    "                f\"Disclaimer: Crypto is risky—always do your own research!\")\n",
    "    elif \"trending\" in query or \"rising\" in query:\n",
    "        trending_coins = [coin for coin in crypto_db if crypto_db[coin][\"price_trend\"] == \"rising\"]\n",
    "        if trending_coins:\n",
    "            return (f\"Hot picks! 🚀 {', '.join(trending_coins)} are trending up!\\n\"\n",
    "                    f\"Disclaimer: Crypto is risky—always do your own research!\")\n",
    "        else:\n",
    "            return \"No coins are trending up right now. 😕 Check back later!\\nDisclaimer: Crypto is risky—always do your own research!\"\n",
    "    elif \"buy\" in query or \"long-term\" in query:\n",
    "        best_coin = None\n",
    "        for coin in crypto_db:\n",
    "            if (crypto_db[coin][\"price_trend\"] == \"rising\" and\n",
    "                crypto_db[coin][\"market_cap\"] in [\"high\", \"medium\"]):\n",
    "                best_coin = coin\n",
    "                break\n",
    "        if best_coin:\n",
    "            return (f\"For long-term growth, go with {best_coin}! 🚀 It’s trending up and has a solid market cap.\\n\"\n",
    "                    f\"Disclaimer: Crypto is risky—always do your own research!\")\n",
    "        else:\n",
    "            return \"No strong long-term picks right now. 😕 Maybe consider sustainability!\\nDisclaimer: Crypto is risky—always do your own research!\"\n",
    "    else:\n",
    "        return (\"I’m not sure what you mean. 😅 Try asking about trending coins, sustainable options, or what to buy!\\n\"\n",
    "                \"Disclaimer: Crypto is risky—always do your own research!\")"
   ]
  },
  {
   "cell_type": "code",
   "execution_count": 22,
   "id": "139af14c",
   "metadata": {},
   "outputs": [
    {
     "name": "stdout",
     "output_type": "stream",
     "text": [
      "CryptoBuddy: Thinking... 🤔\n",
      "I’m not sure what you mean. 😅 Try asking about trending coins, sustainable options, or what to buy!\n",
      "Disclaimer: Crypto is risky—always do your own research!\n"
     ]
    }
   ],
   "source": [
    "# Interactive chatbot cell\n",
    "\n",
    "user_input = input(\"You: \")\n",
    "response = crypto_advisor(user_input)\n",
    "print(response)"
   ]
  },
  {
   "cell_type": "markdown",
   "id": "0a18c475",
   "metadata": {},
   "source": [
    "## Example Questions\n",
    "\n",
    "- Which crypto is most sustainable?\n",
    "- What coins are trending?\n",
    "- What should I buy for long-term growth?"
   ]
  },
  {
   "cell_type": "code",
   "execution_count": 26,
   "id": "5edc712a",
   "metadata": {},
   "outputs": [
    {
     "name": "stdout",
     "output_type": "stream",
     "text": [
      "You: Which crypto is most sustainable?\n",
      "CryptoBuddy: Thinking... 🤔\n",
      "Invest in Cardano! 🌱 It’s eco-friendly with a sustainability score of 8.0/10!\n",
      "Disclaimer: Crypto is risky—always do your own research!\n",
      "----------------------------------------\n",
      "You: What coins are trending?\n",
      "CryptoBuddy: Thinking... 🤔\n",
      "Hot picks! 🚀 Bitcoin, Cardano are trending up!\n",
      "Disclaimer: Crypto is risky—always do your own research!\n",
      "----------------------------------------\n",
      "You: What should I buy for long-term growth?\n",
      "CryptoBuddy: Thinking... 🤔\n",
      "For long-term growth, go with Bitcoin! 🚀 It’s trending up and has a solid market cap.\n",
      "Disclaimer: Crypto is risky—always do your own research!\n",
      "----------------------------------------\n",
      "You: Tell me about eco-friendly coins.\n",
      "CryptoBuddy: Thinking... 🤔\n",
      "Invest in Cardano! 🌱 It’s eco-friendly with a sustainability score of 8.0/10!\n",
      "Disclaimer: Crypto is risky—always do your own research!\n",
      "----------------------------------------\n",
      "You: exit\n",
      "CryptoBuddy: Thinking... 🤔\n",
      "I’m not sure what you mean. 😅 Try asking about trending coins, sustainable options, or what to buy!\n",
      "Disclaimer: Crypto is risky—always do your own research!\n",
      "----------------------------------------\n"
     ]
    }
   ],
   "source": [
    "# Test cases \n",
    "\n",
    "test_queries = [\n",
    "    \"Which crypto is most sustainable?\",\n",
    "    \"What coins are trending?\",\n",
    "    \"What should I buy for long-term growth?\",\n",
    "    \"Tell me about eco-friendly coins.\",\n",
    "    \"exit\"\n",
    "]\n",
    "\n",
    "for q in test_queries:\n",
    "    print(f\"You: {q}\")\n",
    "    print(crypto_advisor(q))\n",
    "    print(\"-\" * 40)"
   ]
  }
 ],
 "metadata": {
  "kernelspec": {
   "display_name": "Python 3",
   "language": "python",
   "name": "python3"
  },
  "language_info": {
   "codemirror_mode": {
    "name": "ipython",
    "version": 3
   },
   "file_extension": ".py",
   "mimetype": "text/x-python",
   "name": "python",
   "nbconvert_exporter": "python",
   "pygments_lexer": "ipython3",
   "version": "3.13.3"
  }
 },
 "nbformat": 4,
 "nbformat_minor": 5
}
